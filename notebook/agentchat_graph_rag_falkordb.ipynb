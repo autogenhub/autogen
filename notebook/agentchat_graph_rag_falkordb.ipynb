{
 "cells": [
  {
   "cell_type": "code",
   "execution_count": 15,
   "metadata": {},
   "outputs": [
    {
     "name": "stderr",
     "output_type": "stream",
     "text": [
      "1136172.97s - pydevd: Sending message related to process being replaced timed-out after 5 seconds\n"
     ]
    },
    {
     "name": "stdout",
     "output_type": "stream",
     "text": [
      "Defaulting to user installation because normal site-packages is not writeable\n",
      "Requirement already satisfied: graphrag_sdk==0.1.3b0 in /home/autogen-ai/.local/lib/python3.11/site-packages (0.1.3b0)\n",
      "Requirement already satisfied: bs4<0.0.3,>=0.0.2 in /home/autogen-ai/.local/lib/python3.11/site-packages (from graphrag_sdk==0.1.3b0) (0.0.2)\n",
      "Requirement already satisfied: falkordb<2.0.0,>=1.0.4 in /home/autogen-ai/.local/lib/python3.11/site-packages (from graphrag_sdk==0.1.3b0) (1.0.8)\n",
      "Requirement already satisfied: openai<2.0.0,>=1.30.3 in /usr/local/lib/python3.11/site-packages (from graphrag_sdk==0.1.3b0) (1.49.0)\n",
      "Requirement already satisfied: sqlalchemy<3.0.0,>=2.0.30 in /usr/local/lib/python3.11/site-packages (from graphrag_sdk==0.1.3b0) (2.0.35)\n",
      "Requirement already satisfied: typing-extensions<5.0.0,>=4.12.1 in /usr/local/lib/python3.11/site-packages (from graphrag_sdk==0.1.3b0) (4.12.2)\n",
      "Requirement already satisfied: beautifulsoup4 in /usr/local/lib/python3.11/site-packages (from bs4<0.0.3,>=0.0.2->graphrag_sdk==0.1.3b0) (4.12.3)\n",
      "Requirement already satisfied: redis<6.0.0,>=5.0.1 in /home/autogen-ai/.local/lib/python3.11/site-packages (from falkordb<2.0.0,>=1.0.4->graphrag_sdk==0.1.3b0) (5.1.0)\n",
      "Requirement already satisfied: anyio<5,>=3.5.0 in /usr/local/lib/python3.11/site-packages (from openai<2.0.0,>=1.30.3->graphrag_sdk==0.1.3b0) (4.6.0)\n",
      "Requirement already satisfied: distro<2,>=1.7.0 in /usr/local/lib/python3.11/site-packages (from openai<2.0.0,>=1.30.3->graphrag_sdk==0.1.3b0) (1.9.0)\n",
      "Requirement already satisfied: httpx<1,>=0.23.0 in /usr/local/lib/python3.11/site-packages (from openai<2.0.0,>=1.30.3->graphrag_sdk==0.1.3b0) (0.27.2)\n",
      "Requirement already satisfied: jiter<1,>=0.4.0 in /usr/local/lib/python3.11/site-packages (from openai<2.0.0,>=1.30.3->graphrag_sdk==0.1.3b0) (0.5.0)\n",
      "Requirement already satisfied: pydantic<3,>=1.9.0 in /usr/local/lib/python3.11/site-packages (from openai<2.0.0,>=1.30.3->graphrag_sdk==0.1.3b0) (1.10.9)\n",
      "Requirement already satisfied: sniffio in /usr/local/lib/python3.11/site-packages (from openai<2.0.0,>=1.30.3->graphrag_sdk==0.1.3b0) (1.3.1)\n",
      "Requirement already satisfied: tqdm>4 in /usr/local/lib/python3.11/site-packages (from openai<2.0.0,>=1.30.3->graphrag_sdk==0.1.3b0) (4.66.5)\n",
      "Requirement already satisfied: greenlet!=0.4.17 in /usr/local/lib/python3.11/site-packages (from sqlalchemy<3.0.0,>=2.0.30->graphrag_sdk==0.1.3b0) (3.1.1)\n",
      "Requirement already satisfied: idna>=2.8 in /usr/local/lib/python3.11/site-packages (from anyio<5,>=3.5.0->openai<2.0.0,>=1.30.3->graphrag_sdk==0.1.3b0) (3.10)\n",
      "Requirement already satisfied: certifi in /usr/local/lib/python3.11/site-packages (from httpx<1,>=0.23.0->openai<2.0.0,>=1.30.3->graphrag_sdk==0.1.3b0) (2024.8.30)\n",
      "Requirement already satisfied: httpcore==1.* in /usr/local/lib/python3.11/site-packages (from httpx<1,>=0.23.0->openai<2.0.0,>=1.30.3->graphrag_sdk==0.1.3b0) (1.0.5)\n",
      "Requirement already satisfied: h11<0.15,>=0.13 in /usr/local/lib/python3.11/site-packages (from httpcore==1.*->httpx<1,>=0.23.0->openai<2.0.0,>=1.30.3->graphrag_sdk==0.1.3b0) (0.14.0)\n",
      "Requirement already satisfied: soupsieve>1.2 in /usr/local/lib/python3.11/site-packages (from beautifulsoup4->bs4<0.0.3,>=0.0.2->graphrag_sdk==0.1.3b0) (2.6)\n",
      "\n",
      "\u001b[1m[\u001b[0m\u001b[34;49mnotice\u001b[0m\u001b[1;39;49m]\u001b[0m\u001b[39;49m A new release of pip is available: \u001b[0m\u001b[31;49m24.2\u001b[0m\u001b[39;49m -> \u001b[0m\u001b[32;49m24.3.1\u001b[0m\n",
      "\u001b[1m[\u001b[0m\u001b[34;49mnotice\u001b[0m\u001b[1;39;49m]\u001b[0m\u001b[39;49m To update, run: \u001b[0m\u001b[32;49mpip install --upgrade pip\u001b[0m\n",
      "Note: you may need to restart the kernel to use updated packages.\n"
     ]
    },
    {
     "name": "stderr",
     "output_type": "stream",
     "text": [
      "1136178.53s - pydevd: Sending message related to process being replaced timed-out after 5 seconds\n"
     ]
    },
    {
     "name": "stdout",
     "output_type": "stream",
     "text": [
      "Defaulting to user installation because normal site-packages is not writeable\n",
      "Obtaining file:///workspaces/autogen\n",
      "  Installing build dependencies ... \u001b[?25ldone\n",
      "\u001b[?25h  Checking if build backend supports build_editable ... \u001b[?25ldone\n",
      "\u001b[?25h  Getting requirements to build editable ... \u001b[?25ldone\n",
      "\u001b[?25h  Preparing editable metadata (pyproject.toml) ... \u001b[?25ldone\n",
      "\u001b[?25hRequirement already satisfied: openai>=1.3 in /usr/local/lib/python3.11/site-packages (from autogen==0.3.0) (1.49.0)\n",
      "Requirement already satisfied: diskcache in /usr/local/lib/python3.11/site-packages (from autogen==0.3.0) (5.6.3)\n",
      "Requirement already satisfied: termcolor in /usr/local/lib/python3.11/site-packages (from autogen==0.3.0) (2.4.0)\n",
      "Requirement already satisfied: flaml in /home/autogen-ai/.local/lib/python3.11/site-packages (from autogen==0.3.0) (2.2.0)\n",
      "Requirement already satisfied: numpy<2,>=1.17.0 in /usr/local/lib/python3.11/site-packages (from autogen==0.3.0) (1.26.4)\n",
      "Requirement already satisfied: python-dotenv in /usr/local/lib/python3.11/site-packages (from autogen==0.3.0) (1.0.1)\n",
      "Requirement already satisfied: tiktoken in /usr/local/lib/python3.11/site-packages (from autogen==0.3.0) (0.7.0)\n",
      "Requirement already satisfied: pydantic!=2.6.0,<3,>=1.10 in /usr/local/lib/python3.11/site-packages (from autogen==0.3.0) (1.10.9)\n",
      "Requirement already satisfied: docker in /usr/local/lib/python3.11/site-packages (from autogen==0.3.0) (7.1.0)\n",
      "Requirement already satisfied: packaging in /usr/local/lib/python3.11/site-packages (from autogen==0.3.0) (24.1)\n",
      "Requirement already satisfied: anyio<5,>=3.5.0 in /usr/local/lib/python3.11/site-packages (from openai>=1.3->autogen==0.3.0) (4.6.0)\n",
      "Requirement already satisfied: distro<2,>=1.7.0 in /usr/local/lib/python3.11/site-packages (from openai>=1.3->autogen==0.3.0) (1.9.0)\n",
      "Requirement already satisfied: httpx<1,>=0.23.0 in /usr/local/lib/python3.11/site-packages (from openai>=1.3->autogen==0.3.0) (0.27.2)\n",
      "Requirement already satisfied: jiter<1,>=0.4.0 in /usr/local/lib/python3.11/site-packages (from openai>=1.3->autogen==0.3.0) (0.5.0)\n",
      "Requirement already satisfied: sniffio in /usr/local/lib/python3.11/site-packages (from openai>=1.3->autogen==0.3.0) (1.3.1)\n",
      "Requirement already satisfied: tqdm>4 in /usr/local/lib/python3.11/site-packages (from openai>=1.3->autogen==0.3.0) (4.66.5)\n",
      "Requirement already satisfied: typing-extensions<5,>=4.11 in /usr/local/lib/python3.11/site-packages (from openai>=1.3->autogen==0.3.0) (4.12.2)\n",
      "Requirement already satisfied: requests>=2.26.0 in /usr/local/lib/python3.11/site-packages (from docker->autogen==0.3.0) (2.32.3)\n",
      "Requirement already satisfied: urllib3>=1.26.0 in /usr/local/lib/python3.11/site-packages (from docker->autogen==0.3.0) (2.2.3)\n",
      "Requirement already satisfied: regex>=2022.1.18 in /usr/local/lib/python3.11/site-packages (from tiktoken->autogen==0.3.0) (2024.9.11)\n",
      "Requirement already satisfied: idna>=2.8 in /usr/local/lib/python3.11/site-packages (from anyio<5,>=3.5.0->openai>=1.3->autogen==0.3.0) (3.10)\n",
      "Requirement already satisfied: certifi in /usr/local/lib/python3.11/site-packages (from httpx<1,>=0.23.0->openai>=1.3->autogen==0.3.0) (2024.8.30)\n",
      "Requirement already satisfied: httpcore==1.* in /usr/local/lib/python3.11/site-packages (from httpx<1,>=0.23.0->openai>=1.3->autogen==0.3.0) (1.0.5)\n",
      "Requirement already satisfied: h11<0.15,>=0.13 in /usr/local/lib/python3.11/site-packages (from httpcore==1.*->httpx<1,>=0.23.0->openai>=1.3->autogen==0.3.0) (0.14.0)\n",
      "Requirement already satisfied: charset-normalizer<4,>=2 in /usr/local/lib/python3.11/site-packages (from requests>=2.26.0->docker->autogen==0.3.0) (3.3.2)\n",
      "Building wheels for collected packages: autogen\n",
      "  Building editable for autogen (pyproject.toml) ... \u001b[?25ldone\n",
      "\u001b[?25h  Created wheel for autogen: filename=autogen-0.3.0-0.editable-py3-none-any.whl size=16273 sha256=20d08c707c24d67ad0f271f71cef54b81aa54a044da58030e67204fc994ee53b\n",
      "  Stored in directory: /tmp/pip-ephem-wheel-cache-038ayx1o/wheels/d4/86/1f/a538740a449c67aa3ff8343698c29d70fc94236f70bde92144\n",
      "Successfully built autogen\n",
      "Installing collected packages: autogen\n",
      "  Attempting uninstall: autogen\n",
      "    Found existing installation: autogen 0.3.0\n",
      "    Uninstalling autogen-0.3.0:\n",
      "      Successfully uninstalled autogen-0.3.0\n",
      "Successfully installed autogen-0.3.0\n",
      "\n",
      "\u001b[1m[\u001b[0m\u001b[34;49mnotice\u001b[0m\u001b[1;39;49m]\u001b[0m\u001b[39;49m A new release of pip is available: \u001b[0m\u001b[31;49m24.2\u001b[0m\u001b[39;49m -> \u001b[0m\u001b[32;49m24.3.1\u001b[0m\n",
      "\u001b[1m[\u001b[0m\u001b[34;49mnotice\u001b[0m\u001b[1;39;49m]\u001b[0m\u001b[39;49m To update, run: \u001b[0m\u001b[32;49mpip install --upgrade pip\u001b[0m\n",
      "Note: you may need to restart the kernel to use updated packages.\n"
     ]
    }
   ],
   "source": [
    "%pip install graphrag_sdk==0.1.3b0\n",
    "%pip install -e /workspaces/autogen"
   ]
  },
  {
   "cell_type": "code",
   "execution_count": 8,
   "metadata": {},
   "outputs": [],
   "source": [
    "import os\n",
    "\n",
    "import autogen\n",
    "\n",
    "config_list = autogen.config_list_from_json(env_or_file=\"../OAI_CONFIG_LIST\")\n",
    "os.environ[\"OPENAI_API_KEY\"] = config_list[0][\"api_key\"]"
   ]
  },
  {
   "cell_type": "code",
   "execution_count": 10,
   "metadata": {},
   "outputs": [],
   "source": [
    "from graphrag_sdk.schema import Schema\n",
    "\n",
    "from autogen.agentchat.contrib.graph_rag.document import Document, DocumentType\n",
    "from autogen.agentchat.contrib.graph_rag.falkor_graph_query_engine import FalkorGraphQueryEngine\n",
    "\n",
    "# Auto generate graph schema from unstructured data\n",
    "input_path = \"../test/agentchat/contrib/graph_rag/the_matrix.txt\"\n",
    "\n",
    "movie_schema = Schema()\n",
    "actor = movie_schema.add_entity(\"Actor\").add_attribute(\"name\", str, unique=True)\n",
    "movie = movie_schema.add_entity(\"Movie\").add_attribute(\"title\", str, unique=True)\n",
    "movie_schema.add_relation(\"ACTED\", actor, movie)\n",
    "\n",
    "query_engine = FalkorGraphQueryEngine(\n",
    "    name=\"IMDB\",\n",
    "    host=\"172.18.0.3\",\n",
    "    port=6379,\n",
    "    schema=movie_schema,\n",
    ")\n",
    "\n",
    "input_documents = [Document(doctype=DocumentType.TEXT, path_or_url=input_path)]\n",
    "\n",
    "query_engine.init_db(input_doc=input_documents)"
   ]
  },
  {
   "cell_type": "code",
   "execution_count": 9,
   "metadata": {},
   "outputs": [
    {
     "name": "stdout",
     "output_type": "stream",
     "text": [
      "Answer: FalkorGraphQueryResult(answer=\"A few actors who've played in 'The Matrix' are:\\n\\n- Keanu Reeves\\n- Laurence Fishburne\\n- Carrie-Anne Moss\\n- Hugo Weaving\", results=[], messages=[{'role': 'system', 'content': 'You are a graph database expert fluent in the Cypher query language\\n                with access to the following knowledge graph: The knowladge graph schema is as follows:\\nThe graph contains the following node labels:\\nMovie\\nActor\\nThe Movie label is associated with the following attribute(s):\\ntitle which is of type str\\nThe Actor label is associated with the following attribute(s):\\nname which is of type str\\nThe graph contains the following relationship types:\\nACTED\\nThe ACTED relationship connects the following labels:\\nActor is connected via ACTED to Movie\\nThis is the end of the knowladge graph schema description.\\n'}, {'role': 'user', 'content': \"Name a few actors who've played in 'The Matrix'\"}, ChatCompletionMessage(content=None, refusal=None, role='assistant', function_call=None, tool_calls=[ChatCompletionMessageToolCall(id='call_COgmJtXljCeUL7BQzyf0iY2n', function=Function(arguments='{\\n  \"query\": \"MATCH (m:Movie {title: \\'The Matrix\\'})<-[:ACTED]-(a:Actor) RETURN a.name\"\\n}', name='run_cypher_query'), type='function')]), {'tool_call_id': 'call_COgmJtXljCeUL7BQzyf0iY2n', 'role': 'tool', 'name': 'run_cypher_query', 'content': \"[['Keanu Reeves'], ['Laurence Fishburne'], ['Carrie-Anne Moss'], ['Hugo Weaving']]\"}, {'role': 'assistant', 'content': \"A few actors who've played in 'The Matrix' are:\\n\\n- Keanu Reeves\\n- Laurence Fishburne\\n- Carrie-Anne Moss\\n- Hugo Weaving\"}])\n"
     ]
    }
   ],
   "source": [
    "# Query your data\n",
    "question = \"Name a few actors who've played in 'The Matrix'\"\n",
    "answer = query_engine.query(question)\n",
    "print(f\"Answer: {answer}\")"
   ]
  },
  {
   "cell_type": "code",
   "execution_count": 16,
   "metadata": {},
   "outputs": [
    {
     "name": "stdout",
     "output_type": "stream",
     "text": [
      "\u001b[33muser_proxy\u001b[0m (to user_proxy):\n",
      "\n",
      "Name a few actors who've played in 'The Matrix'\n",
      "\n",
      "--------------------------------------------------------------------------------\n"
     ]
    },
    {
     "data": {
      "text/plain": [
       "ChatResult(chat_id=None, chat_history=[{'content': \"Name a few actors who've played in 'The Matrix'\", 'role': 'assistant', 'name': 'user_proxy'}, {'content': \"The following actors have played in 'The Matrix':\\n\\n- Keanu Reeves\\n- Laurence Fishburne\\n- Carrie-Anne Moss\\n- Hugo Weaving\", 'role': 'user', 'name': 'user_proxy'}], summary=\"The following actors have played in 'The Matrix':\\n\\n- Keanu Reeves\\n- Laurence Fishburne\\n- Carrie-Anne Moss\\n- Hugo Weaving\", cost={'usage_including_cached_inference': {'total_cost': 0}, 'usage_excluding_cached_inference': {'total_cost': 0}}, human_input=['exit'])"
      ]
     },
     "execution_count": 16,
     "metadata": {},
     "output_type": "execute_result"
    }
   ],
   "source": [
    "from autogen import UserProxyAgent\n",
    "from autogen.agentchat.contrib.graph_rag.falkor_graph_rag_capability import FalkorGraphRagCapability\n",
    "\n",
    "graph_rag_agent = UserProxyAgent(\n",
    "    name=\"user_proxy\",\n",
    "    code_execution_config=False,\n",
    "    is_termination_msg=lambda msg: \"TERMINATE\" in msg[\"content\"],\n",
    "    human_input_mode=\"ALWAYS\",\n",
    ")\n",
    "graph_rag_capability = FalkorGraphRagCapability(query_engine)\n",
    "graph_rag_capability.add_to_agent(graph_rag_agent)\n",
    "\n",
    "graph_rag_agent.initiate_chat(graph_rag_agent, message=\"Name a few actors who've played in 'The Matrix'\")"
   ]
  }
 ],
 "metadata": {
  "kernelspec": {
   "display_name": "Python 3",
   "language": "python",
   "name": "python3"
  },
  "language_info": {
   "codemirror_mode": {
    "name": "ipython",
    "version": 3
   },
   "file_extension": ".py",
   "mimetype": "text/x-python",
   "name": "python",
   "nbconvert_exporter": "python",
   "pygments_lexer": "ipython3",
   "version": "3.11.10"
  }
 },
 "nbformat": 4,
 "nbformat_minor": 2
}
